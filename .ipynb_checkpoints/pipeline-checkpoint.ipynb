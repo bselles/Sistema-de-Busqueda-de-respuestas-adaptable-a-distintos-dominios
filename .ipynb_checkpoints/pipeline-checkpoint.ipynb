{
 "cells": [
  {
   "cell_type": "markdown",
   "metadata": {},
   "source": [
    "# System controller\n",
    "\n",
    "It uses all the components of the system to implement the main functionality: to answer questions.\n",
    "\n",
    "To do it:\n",
    "\n",
    "1- The user inserts a question.\n",
    "\n",
    "2- The system analyzes this question and looks for an answer into the Neo4J database.\n",
    "\n",
    "3- If it finds an answer into the DB, it generates a response.\n",
    "\n",
    "4- If not, it looks for information to add into the DB.  It can retrieve knowledge from the Simple Wikipedia API, from a MongoDB which contains different biomedical articles or from a SQL type DB which contain the same articles. We have implemented both DB to compare which one is better for the project. \n",
    "\n",
    "5- This new information is added to the Neo4j database.\n",
    "\n",
    "6- Then, it looks for the answer and it generates a natural language sentence which contains it.\n",
    "\n",
    "To execute it, it's necessary to run all the cells marked with the message 'NECESSARY TO RUN' and call the main method.\n"
   ]
  },
  {
   "cell_type": "code",
   "execution_count": 1,
   "metadata": {},
   "outputs": [],
   "source": [
    "#NECESSARY TO RUN\n",
    "from natural_language import Analysis, compose_answer"
   ]
  },
  {
   "cell_type": "markdown",
   "metadata": {},
   "source": [
    "# Answering pipeline\n",
    "\n",
    "This pipeline processes a user question, and generates and appropriate answer based on information retrieved from the knowledge bases."
   ]
  },
  {
   "cell_type": "code",
   "execution_count": 2,
   "metadata": {
    "collapsed": true
   },
   "outputs": [],
   "source": [
    "#NECESSARY TO RUN\n",
    "from ground import Ground"
   ]
  },
  {
   "cell_type": "code",
   "execution_count": 4,
   "metadata": {
    "collapsed": true
   },
   "outputs": [
    {
     "name": "stdout",
     "output_type": "stream",
     "text": [
      "ID del ground: 1\n"
     ]
    }
   ],
   "source": [
    "ground = Ground()\n",
    "print('ID del ground: '+ str(ground.ground_id))"
   ]
  },
  {
   "cell_type": "code",
   "execution_count": 5,
   "metadata": {
    "collapsed": true
   },
   "outputs": [],
   "source": [
    "rawquery = \"What is the internet of things?\""
   ]
  },
  {
   "cell_type": "code",
   "execution_count": 6,
   "metadata": {
    "collapsed": true
   },
   "outputs": [
    {
     "name": "stdout",
     "output_type": "stream",
     "text": [
      "['internet', 'thing']\n"
     ]
    }
   ],
   "source": [
    "question = Analysis(rawquery)\n",
    "print(question.content_words())"
   ]
  },
  {
   "cell_type": "markdown",
   "metadata": {},
   "source": [
    "### IR"
   ]
  },
  {
   "cell_type": "code",
   "execution_count": 13,
   "metadata": {
    "collapsed": true
   },
   "outputs": [],
   "source": [
    "from knowledgebase_wiki import retrieveDocument\n",
    "#from knowledgebase_mongo import retrieveDocument\n",
    "#from knowledgebase_medline import retrieveDocument"
   ]
  },
  {
   "cell_type": "code",
   "execution_count": 14,
   "metadata": {
    "collapsed": true
   },
   "outputs": [
    {
     "name": "stdout",
     "output_type": "stream",
     "text": [
      "Internet of things is an idea from computer science: connecting ordinary things like lights and doors to a computer network to make them \"intelligent\". An embedded system or a computer connects each thing together in a network and to the internet. Some technologies used for the internet of things are: RFid and meshnets. The connections allow each thing to collect and exchange data, and we can control them remotely or by setting rules or chains of actions. Experts estimate that the IoT will consist of almost 50 billion objects by 2020. Examples where the internet of things has become reality:\n"
     ]
    }
   ],
   "source": [
    "doc = retrieveDocument(question)\n",
    "print(doc)"
   ]
  },
  {
   "cell_type": "code",
   "execution_count": 11,
   "metadata": {
    "collapsed": true
   },
   "outputs": [],
   "source": [
    "doc = Analysis(doc)\n",
    "ground.teardown()\n",
    "ground.add_text(doc)"
   ]
  },
  {
   "cell_type": "markdown",
   "metadata": {},
   "source": [
    "### Answer extraction"
   ]
  },
  {
   "cell_type": "code",
   "execution_count": 12,
   "metadata": {
    "collapsed": true
   },
   "outputs": [
    {
     "name": "stdout",
     "output_type": "stream",
     "text": [
      "Idea from computer science is internet of thing.\n"
     ]
    }
   ],
   "source": [
    "answers = ground.ask_question(question)\n",
    "for answer in answers:\n",
    "    print(compose_answer(question, answer))"
   ]
  },
  {
   "cell_type": "markdown",
   "metadata": {},
   "source": [
    "# Export pipeline"
   ]
  },
  {
   "cell_type": "code",
   "execution_count": 4,
   "metadata": {
    "collapsed": true
   },
   "outputs": [],
   "source": [
    "def runPipeline (raw_query,ground):\n",
    "    try:\n",
    "        q = Analysis(raw_query)\n",
    "        answers = ground.ask_question(q)\n",
    "        if len(answers)==0:\n",
    "            print(\"Answer not in Neo4j database, looking in knowledge base...\\n\")\n",
    "            doc = Analysis(retrieveDocument(q))\n",
    "            ground.add_text(doc)\n",
    "            answers = ground.ask_question(q)\n",
    "            if len(answers)==0:\n",
    "                raise ValueError()\n",
    "            else:\n",
    "                print(\"Answer found...\\n\")\n",
    "                return '\\n'.join(compose_answer(q, a) for a in answers)\n",
    "        else:\n",
    "            print(\"Answer found in Neo4j database...\\n\")\n",
    "            return '\\n'.join(compose_answer(q, a) for a in answers)\n",
    "                \n",
    "    except:\n",
    "           return \"Sorry, I don't know the answer.\"\n"
   ]
  },
  {
   "cell_type": "code",
   "execution_count": 4,
   "metadata": {
    "collapsed": true
   },
   "outputs": [],
   "source": [
    "def main():\n",
    "    ground = Ground()\n",
    "    ground.teardown()\n",
    "    consulta = str(input(\"Introduce your question (* to finish): \"))\n",
    "    \n",
    "    \n",
    "    while (consulta != '*'):\n",
    "        print(runPipeline(consulta,ground))\n",
    "        consulta = str(input(\"Introduce your question (* to finish): \"))"
   ]
  },
  {
   "cell_type": "markdown",
   "metadata": {},
   "source": [
    "\n",
    "# Ejemplo de funcionamiento.\n",
    "\n",
    "La salida está buggeada. Las respuestas de las siguientes consultas están justo después de \n",
    "la salida de la primera. Aún así, el funcionamiento es el esperado.\n",
    "\n",
    "\n",
    "\n"
   ]
  },
  {
   "cell_type": "code",
   "execution_count": 7,
   "metadata": {
    "collapsed": true
   },
   "outputs": [
    {
     "name": "stdout",
     "output_type": "stream",
     "text": [
      "<class 'NoneType'>\n",
      "Sorry, I don't know the answer.\n"
     ]
    }
   ],
   "source": [
    "main()"
   ]
  },
  {
   "cell_type": "markdown",
   "metadata": {},
   "source": [
    "# Ejemplo múltiples ground."
   ]
  },
  {
   "cell_type": "code",
   "execution_count": 9,
   "metadata": {},
   "outputs": [],
   "source": [
    "def runPipeline ():\n",
    "        g1 = Ground()\n",
    "        g1.teardown()\n",
    "        print('ID del ground1: '+ str(g1.ground_id))\n",
    "        g2 = Ground()\n",
    "        g2.teardown()\n",
    "        print('ID del ground2: '+ str(g2.ground_id))\n",
    "        \n",
    "        raw_query = \"What is fabulous?\"\n",
    "        q = Analysis(raw_query)\n",
    "        \n",
    "        doc = Analysis(\"Fernando is fabulous\")\n",
    "        g1.add_text(doc)\n",
    "        g2.teardown()\n",
    "        answers = g1.ask_question(q)\n",
    "        \n",
    "        if len(answers)==0:\n",
    "            raise ValueError()\n",
    "        else:\n",
    "            return '\\n'.join(compose_answer(q, a) for a in answers)"
   ]
  },
  {
   "cell_type": "code",
   "execution_count": 10,
   "metadata": {},
   "outputs": [
    {
     "name": "stdout",
     "output_type": "stream",
     "text": [
      "ID del ground1: 6\n",
      "ID del ground2: 7\n"
     ]
    },
    {
     "data": {
      "text/plain": [
       "'Fernando is fabulous.'"
      ]
     },
     "execution_count": 10,
     "metadata": {},
     "output_type": "execute_result"
    }
   ],
   "source": [
    "runPipeline()"
   ]
  },
  {
   "cell_type": "code",
   "execution_count": null,
   "metadata": {},
   "outputs": [],
   "source": []
  }
 ],
 "metadata": {
  "anaconda-cloud": {},
  "kernelspec": {
   "display_name": "Python 3",
   "language": "python",
   "name": "python3"
  },
  "language_info": {
   "codemirror_mode": {
    "name": "ipython",
    "version": 3
   },
   "file_extension": ".py",
   "mimetype": "text/x-python",
   "name": "python",
   "nbconvert_exporter": "python",
   "pygments_lexer": "ipython3",
   "version": "3.6.4"
  }
 },
 "nbformat": 4,
 "nbformat_minor": 2
}
