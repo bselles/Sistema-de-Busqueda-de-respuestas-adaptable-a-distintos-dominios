{
 "cells": [
  {
   "cell_type": "markdown",
   "metadata": {},
   "source": [
    "## Test Cases\n",
    " Load the required methods for the correct work of the system"
   ]
  },
  {
   "cell_type": "code",
   "execution_count": 1,
   "metadata": {},
   "outputs": [],
   "source": [
    "from testcase_bioasq import do_tests\n",
    "from testcase_simple_wikipedia import load, response"
   ]
  },
  {
   "cell_type": "markdown",
   "metadata": {},
   "source": [
    "### BioASQ test cases\n",
    "Call to `do_test()` method to start BioASQ testcases. the first one responses to open quetions, the second one responses to closed quetions and the third responses to all questions in input file without any filter"
   ]
  },
  {
   "cell_type": "code",
   "execution_count": null,
   "metadata": {},
   "outputs": [],
   "source": [
    "do_tests('Datasets/BioASQ-SampleDataB.json','Datasets/BioASQ-Answer.json','open')"
   ]
  },
  {
   "cell_type": "code",
   "execution_count": null,
   "metadata": {},
   "outputs": [],
   "source": [
    "do_tests('Datasets/BioASQ-SampleDataB.json','Datasets/BioASQ-Answer.json','closed')"
   ]
  },
  {
   "cell_type": "code",
   "execution_count": null,
   "metadata": {},
   "outputs": [],
   "source": [
    "do_tests('Datasets/BioASQ-SampleDataB.json','Datasets/BioASQ-Answer.json')"
   ]
  },
  {
   "cell_type": "markdown",
   "metadata": {},
   "source": [
    "### Own test cases\n",
    "Call to `do_test()` method to test the system with our files"
   ]
  },
  {
   "cell_type": "code",
   "execution_count": null,
   "metadata": {},
   "outputs": [],
   "source": [
    "do_tests('Datasets/Own-Sample.json', 'Datasets/Own-Answer.json')"
   ]
  },
  {
   "cell_type": "markdown",
   "metadata": {},
   "source": [
    "### Simple Wikipedia\n",
    "Call to `load()` method to generate"
   ]
  },
  {
   "cell_type": "code",
   "execution_count": 2,
   "metadata": {},
   "outputs": [],
   "source": [
    "load('Datasets/simple_wikipedia_questions.txt', 'Datasets/simple_wikipedia_answers.txt', 'Datasets/simple_wikipedia_data.json')"
   ]
  },
  {
   "cell_type": "code",
   "execution_count": 3,
   "metadata": {},
   "outputs": [
    {
     "name": "stdout",
     "output_type": "stream",
     "text": [
      "------------------------------------\n",
      "Question: What is a heart attack?\n",
      "Question type: open\n",
      "Ideal answer:  A sudden occurrence of coronary thrombosis, typically resulting in the death of part of a heart muscle and sometimes fatal\n",
      "Answer: Sorry, I don't know the answer.\n",
      "------------------------------------\n",
      "Question: What is YouTube?\n",
      "Question type: open\n",
      "Ideal answer:  YouTube is an American video-sharing website headquartered in San Bruno, California\n",
      "Answer:  Video sharing free website is youtube.\n",
      "Video sharing free website is youtube.\n",
      "Free video sharing website is youtube.\n",
      "Free video sharing website is youtube.\n",
      "------------------------------------\n",
      "Question: Who founded Google?\n",
      "Question type: open\n",
      "Ideal answer:  Lawrence Edward Page is an American computer scientist and Internet entrepreneur who co-founded Google with Sergey Brin\n",
      "Answer: Sorry, I don't know the answer.\n",
      "------------------------------------\n",
      "Question: What is the meaning of life?\n",
      "Question type: open\n",
      "Ideal answer:  The meaning of life is a philosophical question about the purpose and meaning of life, or of existence more generally\n",
      "Answer:  Sketch comedy musical british movie is meaning of life.\n",
      "British musical sketch comedy movie is meaning of life.\n",
      "Sketch comedy british musical movie is meaning of life.\n",
      "------------------------------------\n",
      "Question: Where is Wally?\n",
      "Question type: open\n",
      "Ideal answer:  Where's Wally?, is a British series of children's puzzle books created by English illustrator Martin Handford\n",
      "Answer: Sorry, I don't know the answer.\n",
      "------------------------------------\n",
      "Question: Who loves John?\n",
      "Question type: open\n",
      "Ideal answer:  Mary loves John\n",
      "Answer: Sorry, I don't know the answer.\n",
      "------------------------------------\n",
      "Question: Who is Carl Friedrich Gauss?\n",
      "Question type: open\n",
      "Ideal answer:  Johann Carl Friedrich Gauss was a German mathematician and physicist who made significant contributions to many fields, including algebra, analysis and astronomy\n",
      "Answer: Sorry, I don't know the answer.\n",
      "------------------------------------\n",
      "Question: Who is the richest person in the world?\n",
      "Question type: open\n",
      "Ideal answer:  Jeff Bezos, the founder of Amazon, is the richest person in the world\n",
      "Answer: Sorry, I don't know the answer.\n",
      "------------------------------------\n",
      "Question: What is the largest planet?\n",
      "Question type: open\n",
      "Ideal answer:  Jupiter is the largest planet we have in our Solar System\n",
      "Answer: Sorry, I don't know the answer.\n",
      "------------------------------------\n",
      "Question: What is pizza?\n",
      "Question type: open\n",
      "Ideal answer:  Pizza is a traditional Italian dish consisting of a yeasted flatbread typically topped with tomato\n",
      "Answer:  Type of food is pizza.\n",
      "Neapolitan chef is pizza.\n"
     ]
    }
   ],
   "source": [
    "response('Datasets/simple_wikipedia_data.json')"
   ]
  },
  {
   "cell_type": "code",
   "execution_count": null,
   "metadata": {},
   "outputs": [],
   "source": [
    "\n"
   ]
  }
 ],
 "metadata": {
  "kernelspec": {
   "display_name": "Python 3",
   "language": "python",
   "name": "python3"
  },
  "language_info": {
   "codemirror_mode": {
    "name": "ipython",
    "version": 3
   },
   "file_extension": ".py",
   "mimetype": "text/x-python",
   "name": "python",
   "nbconvert_exporter": "python",
   "pygments_lexer": "ipython3",
   "version": "3.6.2"
  }
 },
 "nbformat": 4,
 "nbformat_minor": 2
}
